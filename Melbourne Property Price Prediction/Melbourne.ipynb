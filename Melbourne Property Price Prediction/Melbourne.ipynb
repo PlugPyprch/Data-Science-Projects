{
 "cells": [
  {
   "cell_type": "markdown",
   "id": "seven-arbitration",
   "metadata": {},
   "source": [
    "# Melbourne Property Price Prediction "
   ]
  },
  {
   "cell_type": "markdown",
   "id": "regional-modification",
   "metadata": {},
   "source": [
    "โปรเจคนี้ใช้ MelbourneHousingMarket dataset จาก https://www.kaggle.com/anthonypino/melbourne-housing-market\n",
    "ในส่วนของการสร้างโมเดลจะใช้เทคนิคที่เรียกว่า Regression มาทำการสร้าง Machine Learning Model เพื่อทำนายราคาของอสังหาริมทรัพย์ในเมือง Melbourne\n",
    "ประเทศออสเตรเลีย"
   ]
  },
  {
   "cell_type": "markdown",
   "id": "surprised-conference",
   "metadata": {},
   "source": [
    "### Data\n",
    "\n",
    "ในส่วนของ dataset จะประกอบไปด้วยคอลัมน์ดังนี้\n",
    "\n",
    "**Suburb**: Suburb\n",
    "\n",
    "**Address**: Address\n",
    "\n",
    "**Rooms**: Number of rooms\n",
    "\n",
    "**Price**: Price in Australian dollars\n",
    "\n",
    "**Method**: \n",
    "* **S** - property sold.    \n",
    "* **SP** - property sold prior. \n",
    "* **PI** - property passed in.   \n",
    "* **PN** - sold prior not disclosed.    \n",
    "* **SN** - sold not disclosed.   \n",
    "* **NB** - no bid.  \n",
    "* **VB** - vendor bid.\n",
    "* **W** - withdrawn prior to auction.    \n",
    "* **SA** - sold after auction.   \n",
    "* **SS** - sold after auction price not disclosed.    \n",
    "* **N/A** - price or highest bid not available.\n",
    "\n",
    "**Type**:\n",
    "* **br** - bedroom(s).\n",
    "* **h** - house,cottage,villa, semi,terrace.\n",
    "* **u** - unit, duplex.\n",
    "* **t** - townhouse.\n",
    "* **dev site** - development site.\n",
    "* **o res** - other residential.\n",
    "\n",
    "**SellerG**: Real Estate Agent\n",
    "\n",
    "**Date**: Date sold\n",
    "\n",
    "**Distance**: Distance from CBD in Kilometres\n",
    "\n",
    "**Regionname**: General Region (West, North West, North, North east …etc)\n",
    "\n",
    "**Propertycount**: Number of properties that exist in the suburb.\n",
    "\n",
    "**Bedroom2** : Scraped # of Bedrooms (from different source)\n",
    "\n",
    "**Bathroom**: Number of Bathrooms\n",
    "\n",
    "**Car**: Number of carspots\n",
    "\n",
    "**Landsize**: Land Size in Metres\n",
    "\n",
    "**BuildingArea**: Building Size in Metres\n",
    "\n",
    "**YearBuilt**: Year the house was built\n",
    "\n",
    "**CouncilArea**: Governing council for the area\n",
    "\n",
    "**Lattitude**: Self explanitory\n",
    "\n",
    "**Longtitude**: Self explanitory"
   ]
  },
  {
   "cell_type": "markdown",
   "id": "secure-allowance",
   "metadata": {},
   "source": [
    "### Import Iibrary"
   ]
  },
  {
   "cell_type": "code",
   "execution_count": 1,
   "id": "virtual-dating",
   "metadata": {},
   "outputs": [],
   "source": [
    "import numpy as np\n",
    "import pandas as pd\n",
    "import matplotlib.pyplot as plt\n",
    "import missingno as msno\n",
    "import seaborn as sns"
   ]
  },
  {
   "cell_type": "code",
   "execution_count": 2,
   "id": "excess-spring",
   "metadata": {},
   "outputs": [],
   "source": [
    "df = pd.read_csv('Melbourne_housing_FULL.csv') "
   ]
  },
  {
   "cell_type": "markdown",
   "id": "protecting-placement",
   "metadata": {},
   "source": [
    "### Preview data"
   ]
  },
  {
   "cell_type": "code",
   "execution_count": 3,
   "id": "retired-spring",
   "metadata": {},
   "outputs": [
    {
     "data": {
      "text/html": [
       "<div>\n",
       "<style scoped>\n",
       "    .dataframe tbody tr th:only-of-type {\n",
       "        vertical-align: middle;\n",
       "    }\n",
       "\n",
       "    .dataframe tbody tr th {\n",
       "        vertical-align: top;\n",
       "    }\n",
       "\n",
       "    .dataframe thead th {\n",
       "        text-align: right;\n",
       "    }\n",
       "</style>\n",
       "<table border=\"1\" class=\"dataframe\">\n",
       "  <thead>\n",
       "    <tr style=\"text-align: right;\">\n",
       "      <th></th>\n",
       "      <th>Suburb</th>\n",
       "      <th>Address</th>\n",
       "      <th>Rooms</th>\n",
       "      <th>Type</th>\n",
       "      <th>Price</th>\n",
       "      <th>Method</th>\n",
       "      <th>SellerG</th>\n",
       "      <th>Date</th>\n",
       "      <th>Distance</th>\n",
       "      <th>Postcode</th>\n",
       "      <th>...</th>\n",
       "      <th>Bathroom</th>\n",
       "      <th>Car</th>\n",
       "      <th>Landsize</th>\n",
       "      <th>BuildingArea</th>\n",
       "      <th>YearBuilt</th>\n",
       "      <th>CouncilArea</th>\n",
       "      <th>Lattitude</th>\n",
       "      <th>Longtitude</th>\n",
       "      <th>Regionname</th>\n",
       "      <th>Propertycount</th>\n",
       "    </tr>\n",
       "  </thead>\n",
       "  <tbody>\n",
       "    <tr>\n",
       "      <th>0</th>\n",
       "      <td>Abbotsford</td>\n",
       "      <td>68 Studley St</td>\n",
       "      <td>2</td>\n",
       "      <td>h</td>\n",
       "      <td>NaN</td>\n",
       "      <td>SS</td>\n",
       "      <td>Jellis</td>\n",
       "      <td>3/09/2016</td>\n",
       "      <td>2.5</td>\n",
       "      <td>3067.0</td>\n",
       "      <td>...</td>\n",
       "      <td>1.0</td>\n",
       "      <td>1.0</td>\n",
       "      <td>126.0</td>\n",
       "      <td>NaN</td>\n",
       "      <td>NaN</td>\n",
       "      <td>Yarra City Council</td>\n",
       "      <td>-37.8014</td>\n",
       "      <td>144.9958</td>\n",
       "      <td>Northern Metropolitan</td>\n",
       "      <td>4019.0</td>\n",
       "    </tr>\n",
       "    <tr>\n",
       "      <th>1</th>\n",
       "      <td>Abbotsford</td>\n",
       "      <td>85 Turner St</td>\n",
       "      <td>2</td>\n",
       "      <td>h</td>\n",
       "      <td>1480000.0</td>\n",
       "      <td>S</td>\n",
       "      <td>Biggin</td>\n",
       "      <td>3/12/2016</td>\n",
       "      <td>2.5</td>\n",
       "      <td>3067.0</td>\n",
       "      <td>...</td>\n",
       "      <td>1.0</td>\n",
       "      <td>1.0</td>\n",
       "      <td>202.0</td>\n",
       "      <td>NaN</td>\n",
       "      <td>NaN</td>\n",
       "      <td>Yarra City Council</td>\n",
       "      <td>-37.7996</td>\n",
       "      <td>144.9984</td>\n",
       "      <td>Northern Metropolitan</td>\n",
       "      <td>4019.0</td>\n",
       "    </tr>\n",
       "    <tr>\n",
       "      <th>2</th>\n",
       "      <td>Abbotsford</td>\n",
       "      <td>25 Bloomburg St</td>\n",
       "      <td>2</td>\n",
       "      <td>h</td>\n",
       "      <td>1035000.0</td>\n",
       "      <td>S</td>\n",
       "      <td>Biggin</td>\n",
       "      <td>4/02/2016</td>\n",
       "      <td>2.5</td>\n",
       "      <td>3067.0</td>\n",
       "      <td>...</td>\n",
       "      <td>1.0</td>\n",
       "      <td>0.0</td>\n",
       "      <td>156.0</td>\n",
       "      <td>79.0</td>\n",
       "      <td>1900.0</td>\n",
       "      <td>Yarra City Council</td>\n",
       "      <td>-37.8079</td>\n",
       "      <td>144.9934</td>\n",
       "      <td>Northern Metropolitan</td>\n",
       "      <td>4019.0</td>\n",
       "    </tr>\n",
       "    <tr>\n",
       "      <th>3</th>\n",
       "      <td>Abbotsford</td>\n",
       "      <td>18/659 Victoria St</td>\n",
       "      <td>3</td>\n",
       "      <td>u</td>\n",
       "      <td>NaN</td>\n",
       "      <td>VB</td>\n",
       "      <td>Rounds</td>\n",
       "      <td>4/02/2016</td>\n",
       "      <td>2.5</td>\n",
       "      <td>3067.0</td>\n",
       "      <td>...</td>\n",
       "      <td>2.0</td>\n",
       "      <td>1.0</td>\n",
       "      <td>0.0</td>\n",
       "      <td>NaN</td>\n",
       "      <td>NaN</td>\n",
       "      <td>Yarra City Council</td>\n",
       "      <td>-37.8114</td>\n",
       "      <td>145.0116</td>\n",
       "      <td>Northern Metropolitan</td>\n",
       "      <td>4019.0</td>\n",
       "    </tr>\n",
       "    <tr>\n",
       "      <th>4</th>\n",
       "      <td>Abbotsford</td>\n",
       "      <td>5 Charles St</td>\n",
       "      <td>3</td>\n",
       "      <td>h</td>\n",
       "      <td>1465000.0</td>\n",
       "      <td>SP</td>\n",
       "      <td>Biggin</td>\n",
       "      <td>4/03/2017</td>\n",
       "      <td>2.5</td>\n",
       "      <td>3067.0</td>\n",
       "      <td>...</td>\n",
       "      <td>2.0</td>\n",
       "      <td>0.0</td>\n",
       "      <td>134.0</td>\n",
       "      <td>150.0</td>\n",
       "      <td>1900.0</td>\n",
       "      <td>Yarra City Council</td>\n",
       "      <td>-37.8093</td>\n",
       "      <td>144.9944</td>\n",
       "      <td>Northern Metropolitan</td>\n",
       "      <td>4019.0</td>\n",
       "    </tr>\n",
       "  </tbody>\n",
       "</table>\n",
       "<p>5 rows × 21 columns</p>\n",
       "</div>"
      ],
      "text/plain": [
       "       Suburb             Address  Rooms Type      Price Method SellerG  \\\n",
       "0  Abbotsford       68 Studley St      2    h        NaN     SS  Jellis   \n",
       "1  Abbotsford        85 Turner St      2    h  1480000.0      S  Biggin   \n",
       "2  Abbotsford     25 Bloomburg St      2    h  1035000.0      S  Biggin   \n",
       "3  Abbotsford  18/659 Victoria St      3    u        NaN     VB  Rounds   \n",
       "4  Abbotsford        5 Charles St      3    h  1465000.0     SP  Biggin   \n",
       "\n",
       "        Date  Distance  Postcode  ...  Bathroom  Car  Landsize  BuildingArea  \\\n",
       "0  3/09/2016       2.5    3067.0  ...       1.0  1.0     126.0           NaN   \n",
       "1  3/12/2016       2.5    3067.0  ...       1.0  1.0     202.0           NaN   \n",
       "2  4/02/2016       2.5    3067.0  ...       1.0  0.0     156.0          79.0   \n",
       "3  4/02/2016       2.5    3067.0  ...       2.0  1.0       0.0           NaN   \n",
       "4  4/03/2017       2.5    3067.0  ...       2.0  0.0     134.0         150.0   \n",
       "\n",
       "   YearBuilt         CouncilArea Lattitude  Longtitude             Regionname  \\\n",
       "0        NaN  Yarra City Council  -37.8014    144.9958  Northern Metropolitan   \n",
       "1        NaN  Yarra City Council  -37.7996    144.9984  Northern Metropolitan   \n",
       "2     1900.0  Yarra City Council  -37.8079    144.9934  Northern Metropolitan   \n",
       "3        NaN  Yarra City Council  -37.8114    145.0116  Northern Metropolitan   \n",
       "4     1900.0  Yarra City Council  -37.8093    144.9944  Northern Metropolitan   \n",
       "\n",
       "  Propertycount  \n",
       "0        4019.0  \n",
       "1        4019.0  \n",
       "2        4019.0  \n",
       "3        4019.0  \n",
       "4        4019.0  \n",
       "\n",
       "[5 rows x 21 columns]"
      ]
     },
     "execution_count": 3,
     "metadata": {},
     "output_type": "execute_result"
    }
   ],
   "source": [
    "df.head()"
   ]
  },
  {
   "cell_type": "code",
   "execution_count": 4,
   "id": "headed-public",
   "metadata": {},
   "outputs": [
    {
     "data": {
      "text/plain": [
       "Index(['Suburb', 'Address', 'Rooms', 'Type', 'Price', 'Method', 'SellerG',\n",
       "       'Date', 'Distance', 'Postcode', 'Bedroom2', 'Bathroom', 'Car',\n",
       "       'Landsize', 'BuildingArea', 'YearBuilt', 'CouncilArea', 'Lattitude',\n",
       "       'Longtitude', 'Regionname', 'Propertycount'],\n",
       "      dtype='object')"
      ]
     },
     "execution_count": 4,
     "metadata": {},
     "output_type": "execute_result"
    }
   ],
   "source": [
    "df.columns"
   ]
  },
  {
   "cell_type": "code",
   "execution_count": 5,
   "id": "threaded-carol",
   "metadata": {},
   "outputs": [
    {
     "data": {
      "text/html": [
       "<div>\n",
       "<style scoped>\n",
       "    .dataframe tbody tr th:only-of-type {\n",
       "        vertical-align: middle;\n",
       "    }\n",
       "\n",
       "    .dataframe tbody tr th {\n",
       "        vertical-align: top;\n",
       "    }\n",
       "\n",
       "    .dataframe thead th {\n",
       "        text-align: right;\n",
       "    }\n",
       "</style>\n",
       "<table border=\"1\" class=\"dataframe\">\n",
       "  <thead>\n",
       "    <tr style=\"text-align: right;\">\n",
       "      <th></th>\n",
       "      <th>count</th>\n",
       "      <th>mean</th>\n",
       "      <th>std</th>\n",
       "      <th>min</th>\n",
       "      <th>25%</th>\n",
       "      <th>50%</th>\n",
       "      <th>75%</th>\n",
       "      <th>max</th>\n",
       "    </tr>\n",
       "  </thead>\n",
       "  <tbody>\n",
       "    <tr>\n",
       "      <th>Rooms</th>\n",
       "      <td>34857.0</td>\n",
       "      <td>3.031012e+00</td>\n",
       "      <td>0.969933</td>\n",
       "      <td>1.00000</td>\n",
       "      <td>2.00000</td>\n",
       "      <td>3.0000</td>\n",
       "      <td>4.000000e+00</td>\n",
       "      <td>1.600000e+01</td>\n",
       "    </tr>\n",
       "    <tr>\n",
       "      <th>Price</th>\n",
       "      <td>27247.0</td>\n",
       "      <td>1.050173e+06</td>\n",
       "      <td>641467.130105</td>\n",
       "      <td>85000.00000</td>\n",
       "      <td>635000.00000</td>\n",
       "      <td>870000.0000</td>\n",
       "      <td>1.295000e+06</td>\n",
       "      <td>1.120000e+07</td>\n",
       "    </tr>\n",
       "    <tr>\n",
       "      <th>Distance</th>\n",
       "      <td>34856.0</td>\n",
       "      <td>1.118493e+01</td>\n",
       "      <td>6.788892</td>\n",
       "      <td>0.00000</td>\n",
       "      <td>6.40000</td>\n",
       "      <td>10.3000</td>\n",
       "      <td>1.400000e+01</td>\n",
       "      <td>4.810000e+01</td>\n",
       "    </tr>\n",
       "    <tr>\n",
       "      <th>Postcode</th>\n",
       "      <td>34856.0</td>\n",
       "      <td>3.116063e+03</td>\n",
       "      <td>109.023903</td>\n",
       "      <td>3000.00000</td>\n",
       "      <td>3051.00000</td>\n",
       "      <td>3103.0000</td>\n",
       "      <td>3.156000e+03</td>\n",
       "      <td>3.978000e+03</td>\n",
       "    </tr>\n",
       "    <tr>\n",
       "      <th>Bedroom2</th>\n",
       "      <td>26640.0</td>\n",
       "      <td>3.084647e+00</td>\n",
       "      <td>0.980690</td>\n",
       "      <td>0.00000</td>\n",
       "      <td>2.00000</td>\n",
       "      <td>3.0000</td>\n",
       "      <td>4.000000e+00</td>\n",
       "      <td>3.000000e+01</td>\n",
       "    </tr>\n",
       "    <tr>\n",
       "      <th>Bathroom</th>\n",
       "      <td>26631.0</td>\n",
       "      <td>1.624798e+00</td>\n",
       "      <td>0.724212</td>\n",
       "      <td>0.00000</td>\n",
       "      <td>1.00000</td>\n",
       "      <td>2.0000</td>\n",
       "      <td>2.000000e+00</td>\n",
       "      <td>1.200000e+01</td>\n",
       "    </tr>\n",
       "    <tr>\n",
       "      <th>Car</th>\n",
       "      <td>26129.0</td>\n",
       "      <td>1.728845e+00</td>\n",
       "      <td>1.010771</td>\n",
       "      <td>0.00000</td>\n",
       "      <td>1.00000</td>\n",
       "      <td>2.0000</td>\n",
       "      <td>2.000000e+00</td>\n",
       "      <td>2.600000e+01</td>\n",
       "    </tr>\n",
       "    <tr>\n",
       "      <th>Landsize</th>\n",
       "      <td>23047.0</td>\n",
       "      <td>5.935990e+02</td>\n",
       "      <td>3398.841946</td>\n",
       "      <td>0.00000</td>\n",
       "      <td>224.00000</td>\n",
       "      <td>521.0000</td>\n",
       "      <td>6.700000e+02</td>\n",
       "      <td>4.330140e+05</td>\n",
       "    </tr>\n",
       "    <tr>\n",
       "      <th>BuildingArea</th>\n",
       "      <td>13742.0</td>\n",
       "      <td>1.602564e+02</td>\n",
       "      <td>401.267060</td>\n",
       "      <td>0.00000</td>\n",
       "      <td>102.00000</td>\n",
       "      <td>136.0000</td>\n",
       "      <td>1.880000e+02</td>\n",
       "      <td>4.451500e+04</td>\n",
       "    </tr>\n",
       "    <tr>\n",
       "      <th>YearBuilt</th>\n",
       "      <td>15551.0</td>\n",
       "      <td>1.965290e+03</td>\n",
       "      <td>37.328178</td>\n",
       "      <td>1196.00000</td>\n",
       "      <td>1940.00000</td>\n",
       "      <td>1970.0000</td>\n",
       "      <td>2.000000e+03</td>\n",
       "      <td>2.106000e+03</td>\n",
       "    </tr>\n",
       "    <tr>\n",
       "      <th>Lattitude</th>\n",
       "      <td>26881.0</td>\n",
       "      <td>-3.781063e+01</td>\n",
       "      <td>0.090279</td>\n",
       "      <td>-38.19043</td>\n",
       "      <td>-37.86295</td>\n",
       "      <td>-37.8076</td>\n",
       "      <td>-3.775410e+01</td>\n",
       "      <td>-3.739020e+01</td>\n",
       "    </tr>\n",
       "    <tr>\n",
       "      <th>Longtitude</th>\n",
       "      <td>26881.0</td>\n",
       "      <td>1.450019e+02</td>\n",
       "      <td>0.120169</td>\n",
       "      <td>144.42379</td>\n",
       "      <td>144.93350</td>\n",
       "      <td>145.0078</td>\n",
       "      <td>1.450719e+02</td>\n",
       "      <td>1.455264e+02</td>\n",
       "    </tr>\n",
       "    <tr>\n",
       "      <th>Propertycount</th>\n",
       "      <td>34854.0</td>\n",
       "      <td>7.572888e+03</td>\n",
       "      <td>4428.090313</td>\n",
       "      <td>83.00000</td>\n",
       "      <td>4385.00000</td>\n",
       "      <td>6763.0000</td>\n",
       "      <td>1.041200e+04</td>\n",
       "      <td>2.165000e+04</td>\n",
       "    </tr>\n",
       "  </tbody>\n",
       "</table>\n",
       "</div>"
      ],
      "text/plain": [
       "                 count          mean            std          min  \\\n",
       "Rooms          34857.0  3.031012e+00       0.969933      1.00000   \n",
       "Price          27247.0  1.050173e+06  641467.130105  85000.00000   \n",
       "Distance       34856.0  1.118493e+01       6.788892      0.00000   \n",
       "Postcode       34856.0  3.116063e+03     109.023903   3000.00000   \n",
       "Bedroom2       26640.0  3.084647e+00       0.980690      0.00000   \n",
       "Bathroom       26631.0  1.624798e+00       0.724212      0.00000   \n",
       "Car            26129.0  1.728845e+00       1.010771      0.00000   \n",
       "Landsize       23047.0  5.935990e+02    3398.841946      0.00000   \n",
       "BuildingArea   13742.0  1.602564e+02     401.267060      0.00000   \n",
       "YearBuilt      15551.0  1.965290e+03      37.328178   1196.00000   \n",
       "Lattitude      26881.0 -3.781063e+01       0.090279    -38.19043   \n",
       "Longtitude     26881.0  1.450019e+02       0.120169    144.42379   \n",
       "Propertycount  34854.0  7.572888e+03    4428.090313     83.00000   \n",
       "\n",
       "                        25%          50%           75%           max  \n",
       "Rooms               2.00000       3.0000  4.000000e+00  1.600000e+01  \n",
       "Price          635000.00000  870000.0000  1.295000e+06  1.120000e+07  \n",
       "Distance            6.40000      10.3000  1.400000e+01  4.810000e+01  \n",
       "Postcode         3051.00000    3103.0000  3.156000e+03  3.978000e+03  \n",
       "Bedroom2            2.00000       3.0000  4.000000e+00  3.000000e+01  \n",
       "Bathroom            1.00000       2.0000  2.000000e+00  1.200000e+01  \n",
       "Car                 1.00000       2.0000  2.000000e+00  2.600000e+01  \n",
       "Landsize          224.00000     521.0000  6.700000e+02  4.330140e+05  \n",
       "BuildingArea      102.00000     136.0000  1.880000e+02  4.451500e+04  \n",
       "YearBuilt        1940.00000    1970.0000  2.000000e+03  2.106000e+03  \n",
       "Lattitude         -37.86295     -37.8076 -3.775410e+01 -3.739020e+01  \n",
       "Longtitude        144.93350     145.0078  1.450719e+02  1.455264e+02  \n",
       "Propertycount    4385.00000    6763.0000  1.041200e+04  2.165000e+04  "
      ]
     },
     "execution_count": 5,
     "metadata": {},
     "output_type": "execute_result"
    }
   ],
   "source": [
    "df.describe().transpose()"
   ]
  },
  {
   "cell_type": "code",
   "execution_count": 6,
   "id": "minimal-monster",
   "metadata": {},
   "outputs": [
    {
     "data": {
      "text/plain": [
       "(34857, 21)"
      ]
     },
     "execution_count": 6,
     "metadata": {},
     "output_type": "execute_result"
    }
   ],
   "source": [
    "df.shape"
   ]
  },
  {
   "cell_type": "markdown",
   "id": "included-teens",
   "metadata": {},
   "source": [
    "### Feature Engineering"
   ]
  },
  {
   "cell_type": "code",
   "execution_count": 7,
   "id": "linear-combine",
   "metadata": {},
   "outputs": [
    {
     "name": "stdout",
     "output_type": "stream",
     "text": [
      "<class 'pandas.core.frame.DataFrame'>\n",
      "RangeIndex: 34857 entries, 0 to 34856\n",
      "Data columns (total 21 columns):\n",
      " #   Column         Non-Null Count  Dtype   \n",
      "---  ------         --------------  -----   \n",
      " 0   Suburb         34857 non-null  category\n",
      " 1   Address        34857 non-null  category\n",
      " 2   Rooms          34857 non-null  int64   \n",
      " 3   Type           34857 non-null  category\n",
      " 4   Price          27247 non-null  float64 \n",
      " 5   Method         34857 non-null  category\n",
      " 6   SellerG        34857 non-null  category\n",
      " 7   Date           34857 non-null  object  \n",
      " 8   Distance       34856 non-null  float64 \n",
      " 9   Postcode       34856 non-null  category\n",
      " 10  Bedroom2       26640 non-null  float64 \n",
      " 11  Bathroom       26631 non-null  float64 \n",
      " 12  Car            26129 non-null  float64 \n",
      " 13  Landsize       23047 non-null  float64 \n",
      " 14  BuildingArea   13742 non-null  float64 \n",
      " 15  YearBuilt      15551 non-null  float64 \n",
      " 16  CouncilArea    34854 non-null  category\n",
      " 17  Lattitude      26881 non-null  float64 \n",
      " 18  Longtitude     26881 non-null  float64 \n",
      " 19  Regionname     34854 non-null  category\n",
      " 20  Propertycount  34854 non-null  float64 \n",
      "dtypes: category(8), float64(11), int64(1), object(1)\n",
      "memory usage: 5.2+ MB\n"
     ]
    }
   ],
   "source": [
    "# Convert numeric variables to categorical\n",
    "num_cats = ['Suburb','Address','Type','Method','SellerG','Postcode','CouncilArea','Regionname']  \n",
    "\n",
    "for colname in num_cats:\n",
    "    df[colname] = df[colname].astype('category')   \n",
    "\n",
    "# Confirm changes\n",
    "df.info()"
   ]
  },
  {
   "cell_type": "code",
   "execution_count": 8,
   "id": "piano-employment",
   "metadata": {},
   "outputs": [],
   "source": [
    "df[\"Date\"] = pd.to_datetime(df[\"Date\"],dayfirst=True)"
   ]
  },
  {
   "cell_type": "markdown",
   "id": "legitimate-setup",
   "metadata": {},
   "source": [
    "#### Missing value"
   ]
  },
  {
   "cell_type": "code",
   "execution_count": 9,
   "id": "professional-tribute",
   "metadata": {},
   "outputs": [
    {
     "data": {
      "text/plain": [
       "Suburb            0.000000\n",
       "Address           0.000000\n",
       "Rooms             0.000000\n",
       "Type              0.000000\n",
       "Price            21.832057\n",
       "Method            0.000000\n",
       "SellerG           0.000000\n",
       "Date              0.000000\n",
       "Distance          0.002869\n",
       "Postcode          0.002869\n",
       "Bedroom2         23.573457\n",
       "Bathroom         23.599277\n",
       "Car              25.039447\n",
       "Landsize         33.881286\n",
       "BuildingArea     60.576068\n",
       "YearBuilt        55.386293\n",
       "CouncilArea       0.008607\n",
       "Lattitude        22.882061\n",
       "Longtitude       22.882061\n",
       "Regionname        0.008607\n",
       "Propertycount     0.008607\n",
       "dtype: float64"
      ]
     },
     "execution_count": 9,
     "metadata": {},
     "output_type": "execute_result"
    }
   ],
   "source": [
    "# Percentage of missing values\n",
    "df.isnull().sum()/len(df)*100"
   ]
  },
  {
   "cell_type": "markdown",
   "id": "selected-warren",
   "metadata": {},
   "source": [
    "จะสังเกตได้ว่าคอลัมน์บางคอลัมน์มี Missing value มากกว่า 50% หากนำข้อมูลเหล่านั้นไปสร้างโมเดล ก็มีโอกาสจะทำให้โมเดลทำงานผิดพลาดสูง จึงควร drop ทิ้ง"
   ]
  },
  {
   "cell_type": "code",
   "execution_count": 10,
   "id": "assured-benjamin",
   "metadata": {},
   "outputs": [],
   "source": [
    "df = df.drop(['BuildingArea','YearBuilt'], axis = 1) "
   ]
  },
  {
   "cell_type": "markdown",
   "id": "rough-ranch",
   "metadata": {},
   "source": [
    "เริ่มต้นใช้ Intuition โดยคาดว่า Latitude , Longtitude และ Postcode ไม่น่าจะมีผลต่อราคา ควรทำการลบเพื่อลดขนาดของข้อมูล"
   ]
  },
  {
   "cell_type": "code",
   "execution_count": 11,
   "id": "bacterial-cosmetic",
   "metadata": {},
   "outputs": [],
   "source": [
    "df = df.drop(['Lattitude','Longtitude','Postcode'], axis = 1) "
   ]
  },
  {
   "cell_type": "markdown",
   "id": "muslim-irrigation",
   "metadata": {},
   "source": [
    "เนื่องจากคอลัมน์ Rooms และ Bedroom2 เป็นข้อมูลเดียวกัน แต่มากจากคนละแหล่ง เราจึงจะมาเปรียบเทียบข้อมูลกัน"
   ]
  },
  {
   "cell_type": "code",
   "execution_count": 12,
   "id": "afraid-foster",
   "metadata": {},
   "outputs": [
    {
     "data": {
      "text/plain": [
       "0.016253753753753753"
      ]
     },
     "execution_count": 12,
     "metadata": {},
     "output_type": "execute_result"
    }
   ],
   "source": [
    "(df['Rooms'] - df['Bedroom2']).mean()"
   ]
  },
  {
   "cell_type": "markdown",
   "id": "collectible-crawford",
   "metadata": {},
   "source": [
    "จะเห็นได้ว่าคอลัมน์ Rooms และ Bedroom2 แตกต่างกันน้อยมากอย่างไม่มีนัยสำคัญ เพื่อความสะดวกจึงจะทำการลบคอลัมน์ Bedroom 2 ทิ้ง"
   ]
  },
  {
   "cell_type": "code",
   "execution_count": 13,
   "id": "foreign-geology",
   "metadata": {},
   "outputs": [],
   "source": [
    "df = df.drop(['Bedroom2'], axis = 1) "
   ]
  },
  {
   "cell_type": "markdown",
   "id": "confident-liberty",
   "metadata": {},
   "source": [
    "ตอนนี้เราจะเหลือ Missing value อยู่หลักๆคือ\n",
    "- Price      21.8%\n",
    "- Bathroom   23.6%\n",
    "- Car        25%\n",
    "- Landsize   33.9%\n",
    "\n",
    "และจะแทน Missing Value เหล่านี้ด้วยฐานนิยมของแต่ละคอลัมน์"
   ]
  },
  {
   "cell_type": "code",
   "execution_count": 14,
   "id": "collect-lewis",
   "metadata": {},
   "outputs": [],
   "source": [
    "# df['Price'].fillna(df['Price'].mode()[0], inplace = True)\n",
    "# df['Bathroom'].fillna(df['Bathroom'].mode()[0], inplace = True)\n",
    "# df['Car'].fillna(df['Car'].mode()[0], inplace = True)\n",
    "# df['Landsize'].fillna(df['Landsize'].mode()[0], inplace = True)"
   ]
  },
  {
   "cell_type": "code",
   "execution_count": 15,
   "id": "protective-caution",
   "metadata": {},
   "outputs": [
    {
     "data": {
      "text/plain": [
       "600000.0"
      ]
     },
     "execution_count": 15,
     "metadata": {},
     "output_type": "execute_result"
    }
   ],
   "source": [
    "df['Price'].mode()[0]"
   ]
  },
  {
   "cell_type": "code",
   "execution_count": 16,
   "id": "innocent-situation",
   "metadata": {},
   "outputs": [
    {
     "data": {
      "text/plain": [
       "Suburb               0\n",
       "Address              0\n",
       "Rooms                0\n",
       "Type                 0\n",
       "Price             7610\n",
       "Method               0\n",
       "SellerG              0\n",
       "Date                 0\n",
       "Distance             1\n",
       "Bathroom          8226\n",
       "Car               8728\n",
       "Landsize         11810\n",
       "CouncilArea          3\n",
       "Regionname           3\n",
       "Propertycount        3\n",
       "dtype: int64"
      ]
     },
     "execution_count": 16,
     "metadata": {},
     "output_type": "execute_result"
    }
   ],
   "source": [
    "df.isnull().sum()"
   ]
  },
  {
   "cell_type": "markdown",
   "id": "other-astrology",
   "metadata": {},
   "source": [
    "ตอนนี้จำนวน Missing Value ที่เหลือมีเพียงเลขหลักเดียว เราจะทำการ drop แถวของข้อมูลเหล่านี้ทิ้ง"
   ]
  },
  {
   "cell_type": "code",
   "execution_count": 17,
   "id": "designing-productivity",
   "metadata": {},
   "outputs": [],
   "source": [
    "df=df.dropna()"
   ]
  },
  {
   "cell_type": "markdown",
   "id": "pressing-associate",
   "metadata": {},
   "source": [
    "#### Handling Outlier"
   ]
  },
  {
   "cell_type": "code",
   "execution_count": 18,
   "id": "valued-recommendation",
   "metadata": {},
   "outputs": [],
   "source": [
    "Numeric_list = ['Rooms','Price','Distance','Bathroom','Car','Landsize','Propertycount']"
   ]
  },
  {
   "cell_type": "code",
   "execution_count": 19,
   "id": "dense-tract",
   "metadata": {},
   "outputs": [],
   "source": [
    "out=[]\n",
    "\n",
    "#IQR_Outliers_Function\n",
    "def iqr_outliers(df):\n",
    "    q1 = df.quantile(0.25)\n",
    "    q3 = df.quantile(0.75)\n",
    "    iqr = q3-q1\n",
    "    Lower_tail = q1 - 1.5 * iqr\n",
    "    Upper_tail = q3 + 1.5 * iqr\n",
    "    for i in df:\n",
    "        if i > Upper_tail or i < Lower_tail:\n",
    "            out.append(i)\n",
    "    ##print(\"Outliers:\",out)\n",
    "    return out\n",
    "\n",
    "#Remove_Outliers_Function\n",
    "def remove_outliers(outlier_list,column_name):\n",
    "    outlier_list = list(dict.fromkeys(outlier_list))\n",
    "    for i in outlier_list:\n",
    "        df.drop(df[df[column_name] == i].index, inplace = True)\n",
    "\n",
    "#Loop_Remove_Function\n",
    "def loop_remove_outliers(list):\n",
    "    for i in list:\n",
    "        outliers_val = iqr_outliers(df[i])\n",
    "        remove_outliers(outliers_val,i)"
   ]
  },
  {
   "cell_type": "code",
   "execution_count": 20,
   "id": "unlike-antenna",
   "metadata": {},
   "outputs": [],
   "source": [
    "loop_remove_outliers(Numeric_list)"
   ]
  },
  {
   "cell_type": "code",
   "execution_count": 21,
   "id": "separated-patrol",
   "metadata": {},
   "outputs": [
    {
     "data": {
      "text/plain": [
       "(14160, 15)"
      ]
     },
     "execution_count": 21,
     "metadata": {},
     "output_type": "execute_result"
    }
   ],
   "source": [
    "df.shape"
   ]
  },
  {
   "cell_type": "markdown",
   "id": "framed-granny",
   "metadata": {},
   "source": [
    "### Exploratory Data Analysis"
   ]
  },
  {
   "cell_type": "code",
   "execution_count": null,
   "id": "encouraging-prediction",
   "metadata": {},
   "outputs": [],
   "source": []
  },
  {
   "cell_type": "markdown",
   "id": "insured-calgary",
   "metadata": {},
   "source": [
    "### Correlation"
   ]
  },
  {
   "cell_type": "code",
   "execution_count": null,
   "id": "chief-probe",
   "metadata": {},
   "outputs": [],
   "source": []
  },
  {
   "cell_type": "markdown",
   "id": "packed-ultimate",
   "metadata": {},
   "source": [
    "### Linear Regression"
   ]
  },
  {
   "cell_type": "code",
   "execution_count": 22,
   "id": "chief-personality",
   "metadata": {},
   "outputs": [
    {
     "data": {
      "text/plain": [
       "Index(['Rooms', 'Price', 'Distance', 'Bathroom', 'Car', 'Landsize',\n",
       "       'Propertycount'],\n",
       "      dtype='object')"
      ]
     },
     "execution_count": 22,
     "metadata": {},
     "output_type": "execute_result"
    }
   ],
   "source": [
    "df.select_dtypes(['float64','int64']).columns"
   ]
  },
  {
   "cell_type": "code",
   "execution_count": 23,
   "id": "limited-baltimore",
   "metadata": {},
   "outputs": [],
   "source": [
    "X = df[['Rooms', 'Distance', 'Bathroom', 'Car', 'Landsize','Propertycount']]\n",
    "y = df['Price']\n",
    "\n",
    "from sklearn.model_selection import train_test_split\n",
    "X_train, X_test, y_train, y_test = train_test_split(X,y, test_size = .20, random_state= 0)"
   ]
  },
  {
   "cell_type": "code",
   "execution_count": 24,
   "id": "voluntary-regression",
   "metadata": {},
   "outputs": [
    {
     "data": {
      "text/plain": [
       "LinearRegression()"
      ]
     },
     "execution_count": 24,
     "metadata": {},
     "output_type": "execute_result"
    }
   ],
   "source": [
    "from sklearn.linear_model import LinearRegression\n",
    "\n",
    "# Create linear regression object\n",
    "regressor = LinearRegression()\n",
    "\n",
    "# Fit model to training data\n",
    "regressor.fit(X_train,y_train)"
   ]
  },
  {
   "cell_type": "code",
   "execution_count": 25,
   "id": "imposed-architect",
   "metadata": {},
   "outputs": [],
   "source": [
    "y_pred = regressor.predict(X_test)"
   ]
  },
  {
   "cell_type": "code",
   "execution_count": 26,
   "id": "brutal-citizen",
   "metadata": {},
   "outputs": [
    {
     "name": "stdout",
     "output_type": "stream",
     "text": [
      "MAE: 269818.2679408486\n",
      "MSE: 115714184968.39531\n",
      "RMSE: 340167.8776257325\n"
     ]
    }
   ],
   "source": [
    "from sklearn import metrics\n",
    "print('MAE:',metrics.mean_absolute_error(y_test,y_pred))\n",
    "print('MSE:',metrics.mean_squared_error(y_test,y_pred))\n",
    "print('RMSE:',np.sqrt(metrics.mean_squared_error(y_test,y_pred)))"
   ]
  },
  {
   "cell_type": "code",
   "execution_count": 27,
   "id": "spiritual-chess",
   "metadata": {},
   "outputs": [
    {
     "name": "stdout",
     "output_type": "stream",
     "text": [
      "R^2 = 0.39353001601374304\n"
     ]
    }
   ],
   "source": [
    "print('R^2 =',metrics.explained_variance_score(y_test,y_pred))"
   ]
  },
  {
   "cell_type": "code",
   "execution_count": 32,
   "id": "younger-component",
   "metadata": {},
   "outputs": [
    {
     "data": {
      "text/plain": [
       "<matplotlib.collections.PathCollection at 0x22cfef16880>"
      ]
     },
     "execution_count": 32,
     "metadata": {},
     "output_type": "execute_result"
    },
    {
     "data": {
      "image/png": "[encoded data removed]",
      "text/plain": [
       "<Figure size 432x288 with 1 Axes>"
      ]
     },
     "metadata": {
      "needs_background": "light"
     },
     "output_type": "display_data"
    }
   ],
   "source": [
    "plt.scatter(y_test,y_pred)"
   ]
  },
  {
   "cell_type": "code",
   "execution_count": 29,
   "id": "sticky-thought",
   "metadata": {},
   "outputs": [
    {
     "name": "stderr",
     "output_type": "stream",
     "text": [
      "c:\\users\\plugp\\appdata\\local\\programs\\python\\python39\\lib\\site-packages\\seaborn\\distributions.py:2557: FutureWarning: `distplot` is a deprecated function and will be removed in a future version. Please adapt your code to use either `displot` (a figure-level function with similar flexibility) or `histplot` (an axes-level function for histograms).\n",
      "  warnings.warn(msg, FutureWarning)\n"
     ]
    },
    {
     "data": {
      "text/plain": [
       "<AxesSubplot:xlabel='Price', ylabel='Density'>"
      ]
     },
     "execution_count": 29,
     "metadata": {},
     "output_type": "execute_result"
    },
    {
     "data": {
      "image/png": "[encoded data removed]",
      "text/plain": [
       "<Figure size 432x288 with 1 Axes>"
      ]
     },
     "metadata": {
      "needs_background": "light"
     },
     "output_type": "display_data"
    }
   ],
   "source": [
    "sns.distplot((y_test - y_pred))"
   ]
  },
  {
   "cell_type": "code",
   "execution_count": 30,
   "id": "successful-pipeline",
   "metadata": {},
   "outputs": [
    {
     "data": {
      "text/html": [
       "<div>\n",
       "<style scoped>\n",
       "    .dataframe tbody tr th:only-of-type {\n",
       "        vertical-align: middle;\n",
       "    }\n",
       "\n",
       "    .dataframe tbody tr th {\n",
       "        vertical-align: top;\n",
       "    }\n",
       "\n",
       "    .dataframe thead th {\n",
       "        text-align: right;\n",
       "    }\n",
       "</style>\n",
       "<table border=\"1\" class=\"dataframe\">\n",
       "  <thead>\n",
       "    <tr style=\"text-align: right;\">\n",
       "      <th></th>\n",
       "      <th>Coefficients</th>\n",
       "    </tr>\n",
       "  </thead>\n",
       "  <tbody>\n",
       "    <tr>\n",
       "      <th>Rooms</th>\n",
       "      <td>183083.810951</td>\n",
       "    </tr>\n",
       "    <tr>\n",
       "      <th>Distance</th>\n",
       "      <td>-44696.027419</td>\n",
       "    </tr>\n",
       "    <tr>\n",
       "      <th>Bathroom</th>\n",
       "      <td>127505.280459</td>\n",
       "    </tr>\n",
       "    <tr>\n",
       "      <th>Car</th>\n",
       "      <td>28521.990524</td>\n",
       "    </tr>\n",
       "    <tr>\n",
       "      <th>Landsize</th>\n",
       "      <td>519.379451</td>\n",
       "    </tr>\n",
       "    <tr>\n",
       "      <th>Propertycount</th>\n",
       "      <td>1.538712</td>\n",
       "    </tr>\n",
       "  </tbody>\n",
       "</table>\n",
       "</div>"
      ],
      "text/plain": [
       "                Coefficients\n",
       "Rooms          183083.810951\n",
       "Distance       -44696.027419\n",
       "Bathroom       127505.280459\n",
       "Car             28521.990524\n",
       "Landsize          519.379451\n",
       "Propertycount       1.538712"
      ]
     },
     "execution_count": 30,
     "metadata": {},
     "output_type": "execute_result"
    }
   ],
   "source": [
    "cdf = pd.DataFrame(data = regressor.coef_, index = X.columns, columns = ['Coefficients'])\n",
    "cdf"
   ]
  },
  {
   "cell_type": "code",
   "execution_count": 37,
   "id": "tribal-georgia",
   "metadata": {},
   "outputs": [
    {
     "data": {
      "image/png": "[encoded data removed]",
      "text/plain": [
       "<Figure size 432x288 with 1 Axes>"
      ]
     },
     "metadata": {
      "needs_background": "light"
     },
     "output_type": "display_data"
    }
   ],
   "source": []
  },
  {
   "cell_type": "code",
   "execution_count": null,
   "id": "incredible-spoke",
   "metadata": {},
   "outputs": [],
   "source": []
  }
 ],
 "metadata": {
  "kernelspec": {
   "display_name": "Python 3",
   "language": "python",
   "name": "python3"
  },
  "language_info": {
   "codemirror_mode": {
    "name": "ipython",
    "version": 3
   },
   "file_extension": ".py",
   "mimetype": "text/x-python",
   "name": "python",
   "nbconvert_exporter": "python",
   "pygments_lexer": "ipython3",
   "version": "3.9.0"
  }
 },
 "nbformat": 4,
 "nbformat_minor": 5
}
